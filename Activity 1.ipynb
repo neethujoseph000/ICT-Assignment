{
 "cells": [
  {
   "cell_type": "markdown",
   "metadata": {},
   "source": [
    "## 1. Complete the following code to find the area of an equilateral triangle. Output should be as displayed"
   ]
  },
  {
   "cell_type": "code",
   "execution_count": 5,
   "metadata": {},
   "outputs": [
    {
     "name": "stdout",
     "output_type": "stream",
     "text": [
      "Enter the side of the equilateral triangle: 5\n",
      "Area =  10.825\n"
     ]
    }
   ],
   "source": [
    "import math\n",
    "side = float(input(\"Enter the side of the equilateral triangle: \"))\n",
    "area = ((math.sqrt(3))/4)*pow(side,2)\n",
    "Area = round(area,3)\n",
    "print(\"Area = \",Area)"
   ]
  },
  {
   "cell_type": "markdown",
   "metadata": {},
   "source": [
    "## 2. Write a program to count the number of each characters in a string"
   ]
  },
  {
   "cell_type": "code",
   "execution_count": 5,
   "metadata": {},
   "outputs": [
    {
     "name": "stdout",
     "output_type": "stream",
     "text": [
      "Enter the word: pythonprogramming\n",
      "t - 1\n",
      "a - 1\n",
      "r - 2\n",
      "y - 1\n",
      "i - 1\n",
      "o - 2\n",
      "n - 2\n",
      "m - 2\n",
      "p - 2\n",
      "h - 1\n",
      "g - 2\n"
     ]
    }
   ],
   "source": [
    "l=str(input(\"Enter the word: \"))\n",
    "x=set(l)\n",
    "for i in x:\n",
    "    print(i ,\"-\",l.count(i))"
   ]
  },
  {
   "cell_type": "markdown",
   "metadata": {},
   "source": [
    "## 3. Write a program to find the area and perimeter of a rectangle using functions"
   ]
  },
  {
   "cell_type": "code",
   "execution_count": 6,
   "metadata": {},
   "outputs": [
    {
     "name": "stdout",
     "output_type": "stream",
     "text": [
      "Enter the length of rectangle:4\n",
      "Enter the breadth of rectangle :5\n",
      "Area of rectangle is  20.0\n",
      "Perimeter of rectangle is 18.0\n"
     ]
    }
   ],
   "source": [
    "def area(x,y):\n",
    "    return x*y\n",
    "def pmtr(p,q):\n",
    "    return 2*(p+q)\n",
    "l=float(input('Enter the length of rectangle:'))\n",
    "b=float(input('Enter the breadth of rectangle :'))\n",
    "print('Area of rectangle is ',area(l,b))\n",
    "print('Perimeter of rectangle is',pmtr(l,b))"
   ]
  },
  {
   "cell_type": "markdown",
   "metadata": {},
   "source": [
    "## 4. Write a program to print the fibonacci series till a specified number"
   ]
  },
  {
   "cell_type": "code",
   "execution_count": 3,
   "metadata": {},
   "outputs": [
    {
     "name": "stdout",
     "output_type": "stream",
     "text": [
      "enter the number:10\n",
      "0\n",
      "1\n",
      "1\n",
      "2\n",
      "3\n",
      "5\n",
      "8\n",
      "13\n",
      "21\n",
      "34\n"
     ]
    }
   ],
   "source": [
    "def fib(n):\n",
    "    if n==0:\n",
    "        return 0\n",
    "    elif n==1:\n",
    "        return 1\n",
    "    else:\n",
    "        return fib(n-1)+fib(n-2)\n",
    "num=int(input(\"enter the number:\"))\n",
    "for x in range(num):\n",
    "    print(fib(x))\n",
    "    "
   ]
  },
  {
   "cell_type": "markdown",
   "metadata": {},
   "source": [
    "## 5. Complete the following code to find the minimum of 3 number using conditional statements. Output should be as displayed"
   ]
  },
  {
   "cell_type": "code",
   "execution_count": 27,
   "metadata": {},
   "outputs": [
    {
     "name": "stdout",
     "output_type": "stream",
     "text": [
      "Enter three numbers followed by  : -19 -100 -9\n",
      "First number : -19\n",
      "Second number : -100\n",
      "Third number : -9\n",
      "-100  is smallest\n"
     ]
    }
   ],
   "source": [
    "a,b,c = input(\"Enter three numbers followed by  : \").split()\n",
    "print(\"First number :\",a)\n",
    "print(\"Second number :\",b)\n",
    "print(\"Third number :\",c)\n",
    "if a==b==c:\n",
    "    print(\"Entered numbers are equal!!!\")\n",
    "elif(a<b) and (a<c):\n",
    "    print(a,\" is smallest\")\n",
    "elif(b<a) and (b<c):\n",
    "    print(b,\" is smallest\")\n",
    "else:\n",
    "    print(c,\" is smallest\")"
   ]
  },
  {
   "cell_type": "markdown",
   "metadata": {},
   "source": [
    "## 6. Write a program to print star pyramind. The number of rows should be taken as input from the user"
   ]
  },
  {
   "cell_type": "code",
   "execution_count": 22,
   "metadata": {},
   "outputs": [
    {
     "name": "stdout",
     "output_type": "stream",
     "text": [
      "Enter Number of Rows: \n",
      "10\n",
      "Star Pyramid of 10 Rows : \n",
      "          * \n",
      "         * * \n",
      "        * * * \n",
      "       * * * * \n",
      "      * * * * * \n",
      "     * * * * * * \n",
      "    * * * * * * * \n",
      "   * * * * * * * * \n",
      "  * * * * * * * * * \n",
      " * * * * * * * * * * \n"
     ]
    }
   ],
   "source": [
    "print(\"Enter Number of Rows: \")\n",
    "row = int(input())\n",
    "print(\"Star Pyramid of \" + str(row) + \" Rows : \")\n",
    "for i in range(row):\n",
    "    for r in range(row, i, -1):\n",
    "        print(end=\" \")\n",
    "    for j in range(i+1):\n",
    "        print(end=\"* \")\n",
    "    print()"
   ]
  },
  {
   "cell_type": "markdown",
   "metadata": {},
   "source": [
    "## 7. Complete the following code to convert hour into seconds. Output should be as displayed"
   ]
  },
  {
   "cell_type": "code",
   "execution_count": 1,
   "metadata": {},
   "outputs": [
    {
     "name": "stdout",
     "output_type": "stream",
     "text": [
      "Enter time in Hours : 24\n",
      "24  Hour is equal to 86400  Seconds\n"
     ]
    }
   ],
   "source": [
    "t= int(input(\"Enter time in Hours : \"))\n",
    "def to_seconds(t):\n",
    "    s=t*3600\n",
    "    return s\n",
    "time_in_hours = t\n",
    "print(t ,\" Hour is equal to\" ,to_seconds(time_in_hours) ,\" Seconds\")"
   ]
  },
  {
   "cell_type": "markdown",
   "metadata": {},
   "source": [
    "## 8. Write a program to print multiplication table as below"
   ]
  },
  {
   "cell_type": "code",
   "execution_count": 7,
   "metadata": {},
   "outputs": [
    {
     "name": "stdout",
     "output_type": "stream",
     "text": [
      "Enter a number to find the multipication table :67\n",
      "1 x 67 = 67\n",
      "2 x 67 = 134\n",
      "3 x 67 = 201\n",
      "4 x 67 = 268\n",
      "5 x 67 = 335\n",
      "6 x 67 = 402\n",
      "7 x 67 = 469\n",
      "8 x 67 = 536\n",
      "9 x 67 = 603\n",
      "10 x 67 = 670\n"
     ]
    }
   ],
   "source": [
    "def multiply(n):\n",
    "    for i in range (1,11):\n",
    "        print(i,'x',n,'=',i*n)\n",
    "        \n",
    "number=int(input('Enter a number to find the multipication table :'))\n",
    "multiply(number)"
   ]
  },
  {
   "cell_type": "markdown",
   "metadata": {},
   "source": [
    "## 9. Write a program to take your 5 favorite food as list and print each as 'I like Biriyani'"
   ]
  },
  {
   "cell_type": "code",
   "execution_count": 4,
   "metadata": {},
   "outputs": [
    {
     "name": "stdout",
     "output_type": "stream",
     "text": [
      "Enter the list of your 5 favourite food:Biriyani Rice Soup Berger Alfam\n",
      "I LIKE Biriyani\n",
      "I LIKE Rice\n",
      "I LIKE Soup\n",
      "I LIKE Berger\n",
      "I LIKE Alfam\n"
     ]
    }
   ],
   "source": [
    "L=input(\"Enter the list of your 5 favourite food:\").split()\n",
    "for i in range(0,5):\n",
    "    print('I LIKE',L[i])\n"
   ]
  },
  {
   "cell_type": "code",
   "execution_count": null,
   "metadata": {},
   "outputs": [],
   "source": []
  }
 ],
 "metadata": {
  "kernelspec": {
   "display_name": "Python 3",
   "language": "python",
   "name": "python3"
  },
  "language_info": {
   "codemirror_mode": {
    "name": "ipython",
    "version": 3
   },
   "file_extension": ".py",
   "mimetype": "text/x-python",
   "name": "python",
   "nbconvert_exporter": "python",
   "pygments_lexer": "ipython3",
   "version": "3.8.8"
  }
 },
 "nbformat": 4,
 "nbformat_minor": 4
}
